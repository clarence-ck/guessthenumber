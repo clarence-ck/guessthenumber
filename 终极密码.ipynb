{
  "nbformat": 4,
  "nbformat_minor": 0,
  "metadata": {
    "colab": {
      "name": "终极密码.ipynb",
      "provenance": [],
      "collapsed_sections": []
    },
    "kernelspec": {
      "name": "python3",
      "display_name": "Python 3"
    },
    "language_info": {
      "name": "python"
    }
  },
  "cells": [
    {
      "cell_type": "code",
      "metadata": {
        "id": "0A7fAdaQ1Gl4"
      },
      "source": [
        "import random \n",
        "\n",
        "print('Guess a correct number between 1 to 100 to win!')\n",
        "\n",
        "value = random.randint(1, 100)\n",
        "\n",
        "count = 0\n",
        "\n",
        "guess = 0\n",
        "\n",
        "upperbound = 100\n",
        "\n",
        "lowerbound = 1\n",
        "\n",
        "name = input('Enter a name, or \\'q\\' to quit.')\n",
        "  \n",
        "if name == \"q\" or name.strip() == '' :\n",
        "  print('No name registered')\n",
        "\n",
        "else:\n",
        "  print(\"Welcome dealer {} to 'Guess the right number'\".format(name))\n",
        "\n",
        "while guess != value:\n",
        "  \n",
        "  count +=1\n",
        "  guess = input(f'Enter guess #{count}: ')\n",
        "  modguess=guess.strip('-')\n",
        "\n",
        "  if modguess.isnumeric():\n",
        "    guess = int(guess)\n",
        "  \n",
        "  else:\n",
        "    print('Integer numbers only, please!')\n",
        "    continue\n",
        "\n",
        "  if (1<=int(guess)<=100):\n",
        "    print('{} guessed number {}'.format(name,guess))\n",
        "    \n",
        "  else:\n",
        "    print('{} guessed number {}, not a number within 1 to 100, try again'.format(name,guess))\n",
        "    continue\n",
        "    \n",
        "  if guess > value:\n",
        "    upperbound = range(lowerbound,(guess+1))[-1]\n",
        "    guessrange = range(lowerbound,upperbound)\n",
        "    upperbound -= 1\n",
        "    print(\"{}': guess {} is too high, try again!\".format(name,guess))\n",
        "    print(f'The lowerbound is {guessrange[0]} and upperbound is {guessrange[-1]}')\n",
        "    print(list(guessrange))\n",
        "    if len(guessrange)==1:\n",
        "      print(f'After {count} counts of guessing!, next player you are the joker! Struck the jackpot number {value}')\n",
        "      break\n",
        "  \n",
        "  elif guess < value:\n",
        "    lowerbound = range(guess,upperbound)[0]\n",
        "    guessrange = range((lowerbound+1),(upperbound+1))\n",
        "    lowerbound += 1\n",
        "    print(\"{}': guess {} is too low, try again!\".format(name,guess))\n",
        "    print(f'The lowerbound is {guessrange[0]} and upperbound is {guessrange[-1]}')\n",
        "    print(list(guessrange))\n",
        "    if len(guessrange)==1:\n",
        "      print(f'After {count} counts of guessing!, next player you are the joker! Struck the jackpot number {value}')\n",
        "      break\n",
        "\n",
        "else:\n",
        "  print(f'You guessed it in {count} tries!')"
      ],
      "execution_count": null,
      "outputs": []
    }
  ]
}