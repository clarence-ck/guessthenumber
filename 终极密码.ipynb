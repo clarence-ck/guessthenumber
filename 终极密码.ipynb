{
  "nbformat": 4,
  "nbformat_minor": 0,
  "metadata": {
    "colab": {
      "name": " 终极密码.ipynb",
      "provenance": []
    },
    "kernelspec": {
      "name": "python3",
      "display_name": "Python 3"
    },
    "language_info": {
      "name": "python"
    }
  },
  "cells": [
    {
      "cell_type": "code",
      "metadata": {
        "colab": {
          "base_uri": "https://localhost:8080/"
        },
        "id": "0A7fAdaQ1Gl4",
        "outputId": "1b76b5af-b70d-4948-c110-5a2366111268"
      },
      "source": [
        "import random \n",
        "\n",
        "print('Guess a correct number between 1 to 100 to win!')\n",
        "\n",
        "value = random.randint(1, 100)\n",
        "\n",
        "count = 0\n",
        "\n",
        "guess = 0\n",
        "\n",
        "upperbound = 100\n",
        "\n",
        "lowerbound = 1\n",
        "\n",
        "name = input('Enter a name, or \\'q\\' to quit.')\n",
        "  \n",
        "if name == \"q\" or name.strip() == '' :\n",
        "  print('No name registered')\n",
        "\n",
        "else:\n",
        "  print(\"Welcome dealer {} to 'Guess the right number'\".format(name))\n",
        "\n",
        "while guess != value:\n",
        "  \n",
        "  count +=1\n",
        "  guess = input(f'Enter guess #{count}: ')\n",
        "  modguess=guess.strip('-')\n",
        "\n",
        "  if modguess.isnumeric():\n",
        "    guess = int(guess)\n",
        "  \n",
        "  else:\n",
        "    print('Integer numbers only, please!')\n",
        "    continue\n",
        "\n",
        "  if (1<=int(guess)<=100):\n",
        "    print('{} guessed number {}'.format(name,guess))\n",
        "    \n",
        "  else:\n",
        "    print('{} guessed number {}, not a number within 1 to 100, try again'.format(name,guess))\n",
        "    continue\n",
        "    \n",
        "  if guess > value:\n",
        "    upperbound = range(lowerbound,(guess+1))[-1]\n",
        "    guessrange = range(lowerbound,upperbound)\n",
        "    upperbound -= 1\n",
        "    print(\"{}': guess {} is too high, try again!\".format(name,guess))\n",
        "    print(f'The lowerbound is {guessrange[0]} and upperbound is {guessrange[-1]}')\n",
        "    print(list(guessrange))\n",
        "    if len(guessrange)==1:\n",
        "      print(f'After {count} counts of guessing!, next player you are the joker! Struck the jackpot number {value}')\n",
        "      break\n",
        "  \n",
        "  elif guess < value:\n",
        "    lowerbound = range(guess,upperbound)[0]\n",
        "    guessrange = range((lowerbound+1),(upperbound+1))\n",
        "    lowerbound += 1\n",
        "    print(\"{}': guess {} is too low, try again!\".format(name,guess))\n",
        "    print(f'The lowerbound is {guessrange[0]} and upperbound is {guessrange[-1]}')\n",
        "    print(list(guessrange))\n",
        "    if len(guessrange)==1:\n",
        "      print(f'After {count} counts of guessing!, next player you are the joker! Struck the jackpot number {value}')\n",
        "      break\n",
        "\n",
        "else:\n",
        "  print(f'You guessed it in {count} tries!')"
      ],
      "execution_count": 25,
      "outputs": [
        {
          "output_type": "stream",
          "text": [
            "Guess a correct number between 1 to 100 to win!\n",
            "Enter a name, or 'q' to quit. 终极密码\n",
            "Welcome  终极密码 to 'Guess the right number'\n",
            "Enter guess #1: -1\n",
            " 终极密码 guessed number -1, not a number within 1 to 100, try again\n",
            "Enter guess #2:  终极密码\n",
            "Integer numbers only, please!\n",
            "Enter guess #3: 100\n",
            " 终极密码 guessed number 100\n",
            " 终极密码's guess 100 is too high, try again!\n",
            "The lowerbound is 1 and upperbound is 99\n",
            "[1, 2, 3, 4, 5, 6, 7, 8, 9, 10, 11, 12, 13, 14, 15, 16, 17, 18, 19, 20, 21, 22, 23, 24, 25, 26, 27, 28, 29, 30, 31, 32, 33, 34, 35, 36, 37, 38, 39, 40, 41, 42, 43, 44, 45, 46, 47, 48, 49, 50, 51, 52, 53, 54, 55, 56, 57, 58, 59, 60, 61, 62, 63, 64, 65, 66, 67, 68, 69, 70, 71, 72, 73, 74, 75, 76, 77, 78, 79, 80, 81, 82, 83, 84, 85, 86, 87, 88, 89, 90, 91, 92, 93, 94, 95, 96, 97, 98, 99]\n",
            "Enter guess #4: 1\n",
            " 终极密码 guessed number 1\n",
            " 终极密码's guess 1 is too low, try again!\n",
            "The lowerbound is 2 and upperbound is 99\n",
            "[2, 3, 4, 5, 6, 7, 8, 9, 10, 11, 12, 13, 14, 15, 16, 17, 18, 19, 20, 21, 22, 23, 24, 25, 26, 27, 28, 29, 30, 31, 32, 33, 34, 35, 36, 37, 38, 39, 40, 41, 42, 43, 44, 45, 46, 47, 48, 49, 50, 51, 52, 53, 54, 55, 56, 57, 58, 59, 60, 61, 62, 63, 64, 65, 66, 67, 68, 69, 70, 71, 72, 73, 74, 75, 76, 77, 78, 79, 80, 81, 82, 83, 84, 85, 86, 87, 88, 89, 90, 91, 92, 93, 94, 95, 96, 97, 98, 99]\n",
            "Enter guess #5: 48\n",
            " 终极密码 guessed number 48\n",
            " 终极密码's guess 48 is too low, try again!\n",
            "The lowerbound is 49 and upperbound is 99\n",
            "[49, 50, 51, 52, 53, 54, 55, 56, 57, 58, 59, 60, 61, 62, 63, 64, 65, 66, 67, 68, 69, 70, 71, 72, 73, 74, 75, 76, 77, 78, 79, 80, 81, 82, 83, 84, 85, 86, 87, 88, 89, 90, 91, 92, 93, 94, 95, 96, 97, 98, 99]\n",
            "Enter guess #6: 80\n",
            " 终极密码 guessed number 80\n",
            " 终极密码's guess 80 is too high, try again!\n",
            "The lowerbound is 49 and upperbound is 79\n",
            "[49, 50, 51, 52, 53, 54, 55, 56, 57, 58, 59, 60, 61, 62, 63, 64, 65, 66, 67, 68, 69, 70, 71, 72, 73, 74, 75, 76, 77, 78, 79]\n",
            "Enter guess #7: 69\n",
            " 终极密码 guessed number 69\n",
            " 终极密码's guess 69 is too high, try again!\n",
            "The lowerbound is 49 and upperbound is 68\n",
            "[49, 50, 51, 52, 53, 54, 55, 56, 57, 58, 59, 60, 61, 62, 63, 64, 65, 66, 67, 68]\n",
            "Enter guess #8: 58\n",
            " 终极密码 guessed number 58\n",
            " 终极密码's guess 58 is too low, try again!\n",
            "The lowerbound is 59 and upperbound is 68\n",
            "[59, 60, 61, 62, 63, 64, 65, 66, 67, 68]\n",
            "Enter guess #9: 67\n",
            " 终极密码 guessed number 67\n",
            " 终极密码's guess 67 is too high, try again!\n",
            "The lowerbound is 59 and upperbound is 66\n",
            "[59, 60, 61, 62, 63, 64, 65, 66]\n",
            "Enter guess #10: 66\n",
            " 终极密码 guessed number 66\n",
            " 终极密码's guess 66 is too high, try again!\n",
            "The lowerbound is 59 and upperbound is 65\n",
            "[59, 60, 61, 62, 63, 64, 65]\n",
            "Enter guess #11: 64\n",
            " 终极密码 guessed number 64\n",
            " 终极密码's guess 64 is too low, try again!\n",
            "The lowerbound is 65 and upperbound is 65\n",
            "[65]\n",
            "After 11 counts of guessing!,  终极密码 you are the joker! The jackpot is 65\n"
          ],
          "name": "stdout"
        }
      ]
    },
    {
      "cell_type": "code",
      "metadata": {
        "colab": {
          "base_uri": "https://localhost:8080/"
        },
        "id": "0GYgL2IuBW0L",
        "outputId": "6abd19fc-c6f0-459c-e782-c746ad795491"
      },
      "source": [
        "guess=30\n",
        "upperbound = range(lowerbound,(guess+1))[-1]\n",
        "guessrange = range(lowerbound,upperbound)\n",
        "print('Your guess {} is too high, try again!'.format(guess))\n",
        "print(f'The lowerbound is {guessrange[0]} and upperbound is {guessrange[-1]}')\n",
        "print(list(guessrange))"
      ],
      "execution_count": null,
      "outputs": [
        {
          "output_type": "stream",
          "text": [
            "Your guess 30 is too high, try again!\n",
            "The lowerbound is 1 and upperbound is 29\n",
            "[1, 2, 3, 4, 5, 6, 7, 8, 9, 10, 11, 12, 13, 14, 15, 16, 17, 18, 19, 20, 21, 22, 23, 24, 25, 26, 27, 28, 29]\n"
          ],
          "name": "stdout"
        }
      ]
    },
    {
      "cell_type": "code",
      "metadata": {
        "id": "ajkzsc4oxAEY"
      },
      "source": [
        "guess = 30\n",
        "upperbound = range(lowerbound,guess)[-1]\n",
        "guessrange = range(lowerbound,(upperbound+1))\n",
        "print('Your guess {} is too high, try again!'.format(guess))\n",
        "print(f'The lowerbound is {lowerbound} and upperbound is {upperbound}')\n",
        "print(list(guessrange))\n"
      ],
      "execution_count": null,
      "outputs": []
    },
    {
      "cell_type": "code",
      "metadata": {
        "id": "ko35kLJrxSqF"
      },
      "source": [
        "guess = 1\n",
        "lowerbound = range((guess),upperbound)[0]\n",
        "guessrange = range((lowerbound+1), (upperbound))\n",
        "print('Your guess {} is too low, try again!'.format(guess))\n",
        "print(f'The lowerbound is {lowerbound} and upperbound is {upperbound}')\n",
        "print(list(guessrange))"
      ],
      "execution_count": null,
      "outputs": []
    },
    {
      "cell_type": "code",
      "metadata": {
        "id": "nTT9fkLeQ1JX"
      },
      "source": [
        "guess=30\n",
        "guess1=guess+1\n",
        "guessrange = range(1,guess1)\n",
        "print (list(guessrange))\n",
        "upperbound = range(1,guess1)[guess-1]\n",
        "print(upperbound)"
      ],
      "execution_count": null,
      "outputs": []
    },
    {
      "cell_type": "code",
      "metadata": {
        "colab": {
          "base_uri": "https://localhost:8080/"
        },
        "id": "uOzlujQt_x9Z",
        "outputId": "f07ef719-ee7c-4bb4-f1fe-7c7d779d356d"
      },
      "source": [
        "abc=range(0,30)\n",
        "list (abc)"
      ],
      "execution_count": null,
      "outputs": [
        {
          "output_type": "execute_result",
          "data": {
            "text/plain": [
              "[0,\n",
              " 1,\n",
              " 2,\n",
              " 3,\n",
              " 4,\n",
              " 5,\n",
              " 6,\n",
              " 7,\n",
              " 8,\n",
              " 9,\n",
              " 10,\n",
              " 11,\n",
              " 12,\n",
              " 13,\n",
              " 14,\n",
              " 15,\n",
              " 16,\n",
              " 17,\n",
              " 18,\n",
              " 19,\n",
              " 20,\n",
              " 21,\n",
              " 22,\n",
              " 23,\n",
              " 24,\n",
              " 25,\n",
              " 26,\n",
              " 27,\n",
              " 28,\n",
              " 29]"
            ]
          },
          "metadata": {
            "tags": []
          },
          "execution_count": 166
        }
      ]
    },
    {
      "cell_type": "code",
      "metadata": {
        "colab": {
          "base_uri": "https://localhost:8080/"
        },
        "id": "kKyG19udN0kf",
        "outputId": "03b265b9-af49-4a52-9bde-5f3a642b76fb"
      },
      "source": [
        "x=range(1,10)\n",
        "list(x)"
      ],
      "execution_count": null,
      "outputs": [
        {
          "output_type": "execute_result",
          "data": {
            "text/plain": [
              "[1, 2, 3, 4, 5, 6, 7, 8, 9]"
            ]
          },
          "metadata": {
            "tags": []
          },
          "execution_count": 2
        }
      ]
    }
  ]
}